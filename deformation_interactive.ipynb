{
 "cells": [
  {
   "cell_type": "markdown",
   "id": "a52e2ec8-2fdc-429f-8988-73792f39caf4",
   "metadata": {},
   "source": [
    "## Numerical geometry project\n",
    "this notebook implements an interactive interface for the deformation.py script"
   ]
  },
  {
   "cell_type": "code",
   "execution_count": 2,
   "id": "initial_id",
   "metadata": {
    "ExecuteTime": {
     "end_time": "2023-12-30T21:51:18.025498770Z",
     "start_time": "2023-12-30T21:51:17.785867456Z"
    }
   },
   "outputs": [],
   "source": [
    "from pathlib import Path\n",
    "\n",
    "import pyvista as pv\n",
    "pv.set_jupyter_backend('trame')\n",
    "pv.global_theme.allow_empty_mesh = True\n",
    "\n",
    "from deformation import deform_mesh\n",
    "from mesh import Mesh"
   ]
  },
  {
   "cell_type": "markdown",
   "id": "877399ee-9bfb-42a3-873f-21da8982c6c7",
   "metadata": {},
   "source": [
    "### Data"
   ]
  },
  {
   "cell_type": "code",
   "execution_count": 33,
   "id": "7ce06992-93e8-48d0-b2f2-d7275650b28f",
   "metadata": {},
   "outputs": [],
   "source": [
    "# choose the mesh\n",
    "base_path = Path(\"shell\") # \"ifp1\", \"ifp2\", \"shell\" or \"chevron\""
   ]
  },
  {
   "cell_type": "markdown",
   "id": "20b2a7fc-9356-409c-969a-33dfc1530c95",
   "metadata": {},
   "source": [
    "### !Don't change any cell below this one!"
   ]
  },
  {
   "cell_type": "code",
   "execution_count": 34,
   "id": "e853a500-e568-40e2-9164-168bf71fedc3",
   "metadata": {},
   "outputs": [],
   "source": [
    "# retrieve all .obj files in the mesh folder\n",
    "mesh_paths = base_path.glob(\"*.obj\")\n",
    "mesh_list = [pv.read(path) for path in list(mesh_paths)]\n",
    "\n",
    "# create a deformed mesh .vtk with default values\n",
    "deform_mesh(base_path)"
   ]
  },
  {
   "cell_type": "code",
   "execution_count": 35,
   "id": "e9b7475d-09ba-4d3d-ad71-5c987ef585b4",
   "metadata": {},
   "outputs": [
    {
     "data": {
      "application/vnd.jupyter.widget-view+json": {
       "model_id": "79464b17c5a047e5ae538553a565f8d0",
       "version_major": 2,
       "version_minor": 0
      },
      "text/plain": [
       "Widget(value='<iframe src=\"http://localhost:36047/index.html?ui=P_0x7f9b61875c90_10&reconnect=auto\" class=\"pyv…"
      ]
     },
     "metadata": {},
     "output_type": "display_data"
    }
   ],
   "source": [
    "# Plot the initial mesh\n",
    "p = pv.Plotter(notebook=True)\n",
    "\n",
    "for mesh in mesh_list:\n",
    "    p.add_mesh(mesh, show_edges=True) \n",
    "\n",
    "p.add_title(\"Initial mesh\")\n",
    "p.show()"
   ]
  },
  {
   "cell_type": "code",
   "execution_count": 36,
   "id": "e302e0d9-6426-48bc-8f64-4c5da8cd3d43",
   "metadata": {},
   "outputs": [],
   "source": [
    "# implement an interactive engine to deform meshes\n",
    "class DeformMesh:\n",
    "    def __init__(self, mesh):\n",
    "        self.output = mesh  # Expected PyVista mesh type\n",
    "        # default parameters\n",
    "        self.kwargs = {\n",
    "            'fault': 100.0,\n",
    "            'horizon': 100.0,\n",
    "        }\n",
    "        \n",
    "    def __call__(self, param, value):\n",
    "        self.kwargs[param] = value\n",
    "        self.update()\n",
    "\n",
    "    def update(self):\n",
    "        deform_mesh(base_path, base_path, self.kwargs[\"horizon\"], self.kwargs[\"fault\"])\n",
    "        result = pv.read(base_path.joinpath(\"deformed.vtk\"))\n",
    "        self.output.copy_from(result)\n",
    "        return"
   ]
  },
  {
   "cell_type": "code",
   "execution_count": 37,
   "id": "7621003b-bdb6-47f5-9a29-ff94acedc0ab",
   "metadata": {},
   "outputs": [],
   "source": [
    "# intialize the engine\n",
    "starting_mesh = pv.read(base_path.joinpath(\"deformed.vtk\"))\n",
    "engine = DeformMesh(starting_mesh)"
   ]
  },
  {
   "cell_type": "code",
   "execution_count": 38,
   "id": "afc1a893-192f-4913-8ae6-afd27eda7ce7",
   "metadata": {},
   "outputs": [
    {
     "data": {
      "application/vnd.jupyter.widget-view+json": {
       "model_id": "984bdd11df6f4f6aa0e34c98b4510898",
       "version_major": 2,
       "version_minor": 0
      },
      "text/plain": [
       "Widget(value='<iframe src=\"http://localhost:36047/index.html?ui=P_0x7f9b187b76d0_11&reconnect=auto\" class=\"pyv…"
      ]
     },
     "metadata": {},
     "output_type": "display_data"
    }
   ],
   "source": [
    "# plot the ineractive widgets\n",
    "p = pv.Plotter()\n",
    "# i\n",
    "p.add_mesh(starting_mesh, show_edges=True)\n",
    "p.add_slider_widget(\n",
    "    callback=lambda value: engine('fault', int(value)),\n",
    "    rng=[0, 500],\n",
    "    value=100,\n",
    "    title=\"Fault\",\n",
    "    pointa=(0.1, 0.1),\n",
    "    pointb=(0.45, 0.1),\n",
    "    style='modern',\n",
    ")\n",
    "p.add_slider_widget(\n",
    "    callback=lambda value: engine('horizon', int(value)),\n",
    "    rng=[0, 500],\n",
    "    value=100,\n",
    "    title=\"Horizon\",\n",
    "    pointa=(0.55, 0.1),\n",
    "    pointb=(0.9, 0.1),\n",
    "    style='modern',\n",
    ")\n",
    "\n",
    "p.add_title(\"Result\")\n",
    "p.show()"
   ]
  },
  {
   "cell_type": "code",
   "execution_count": null,
   "id": "3527504c-1b4a-4e70-ac6e-865bf538f9e8",
   "metadata": {},
   "outputs": [],
   "source": []
  }
 ],
 "metadata": {
  "kernelspec": {
   "display_name": "Python 3 (ipykernel)",
   "language": "python",
   "name": "python3"
  },
  "language_info": {
   "codemirror_mode": {
    "name": "ipython",
    "version": 3
   },
   "file_extension": ".py",
   "mimetype": "text/x-python",
   "name": "python",
   "nbconvert_exporter": "python",
   "pygments_lexer": "ipython3",
   "version": "3.10.12"
  }
 },
 "nbformat": 4,
 "nbformat_minor": 5
}
