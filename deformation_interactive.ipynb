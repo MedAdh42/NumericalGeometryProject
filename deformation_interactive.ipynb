{
 "cells": [
  {
   "cell_type": "markdown",
   "id": "a52e2ec8-2fdc-429f-8988-73792f39caf4",
   "metadata": {},
   "source": [
    "## Numerical geometry project\n",
    "this notebook implements an interactive interface for the deformation.py script"
   ]
  },
  {
   "cell_type": "code",
   "execution_count": 1,
   "id": "initial_id",
   "metadata": {
    "ExecuteTime": {
     "end_time": "2023-12-30T21:51:18.025498770Z",
     "start_time": "2023-12-30T21:51:17.785867456Z"
    }
   },
   "outputs": [],
   "source": [
    "from deformation import deform_mesh\n",
    "from pathlib import Path\n",
    "import pyvista as pv\n",
    "\n",
    "pv.set_jupyter_backend('trame')\n",
    "pv.global_theme.allow_empty_mesh = True"
   ]
  },
  {
   "cell_type": "markdown",
   "id": "877399ee-9bfb-42a3-873f-21da8982c6c7",
   "metadata": {},
   "source": [
    "### Data"
   ]
  },
  {
   "cell_type": "code",
   "execution_count": 2,
   "id": "7ce06992-93e8-48d0-b2f2-d7275650b28f",
   "metadata": {},
   "outputs": [],
   "source": [
    "# choose the mesh\n",
    "base_path = Path(\"ifp1\") # \"ifp1\", \"ifp2\", \"shell\" or \"chevron\""
   ]
  },
  {
   "cell_type": "markdown",
   "id": "20b2a7fc-9356-409c-969a-33dfc1530c95",
   "metadata": {},
   "source": [
    "### !Don't change any cell below this one!"
   ]
  },
  {
   "cell_type": "code",
   "execution_count": 3,
   "id": "e853a500-e568-40e2-9164-168bf71fedc3",
   "metadata": {},
   "outputs": [],
   "source": [
    "mesh_paths = base_path.glob(\"*.obj\")\n",
    "mesh_list = [pv.read(path) for path in list(mesh_paths)]\n",
    "\n",
    "# create a deformed path\n",
    "deform_mesh(base_path)"
   ]
  },
  {
   "cell_type": "code",
   "execution_count": 4,
   "id": "e9b7475d-09ba-4d3d-ad71-5c987ef585b4",
   "metadata": {},
   "outputs": [
    {
     "data": {
      "application/vnd.jupyter.widget-view+json": {
       "model_id": "9cb4ea6354124fc79ee592c233ce411b",
       "version_major": 2,
       "version_minor": 0
      },
      "text/plain": [
       "Widget(value='<iframe src=\"http://localhost:45181/index.html?ui=P_0x7f71177a7c70_0&reconnect=auto\" class=\"pyvi…"
      ]
     },
     "metadata": {},
     "output_type": "display_data"
    }
   ],
   "source": [
    "p = pv.Plotter(notebook=True)\n",
    "\n",
    "for mesh in mesh_list:\n",
    "    p.add_mesh(mesh, show_edges=True) \n",
    "\n",
    "p.add_title(\"Initial mesh\")\n",
    "p.show()"
   ]
  },
  {
   "cell_type": "code",
   "execution_count": 5,
   "id": "e302e0d9-6426-48bc-8f64-4c5da8cd3d43",
   "metadata": {},
   "outputs": [],
   "source": [
    "import pyvista as pv\n",
    "\n",
    "\n",
    "class DeformMesh:\n",
    "    def __init__(self, mesh):\n",
    "        self.output = mesh  # Expected PyVista mesh type\n",
    "        # default parameters\n",
    "        self.kwargs = {\n",
    "            'fault': 10.0,\n",
    "            'horizon': 10.0,\n",
    "        }\n",
    "        \n",
    "\n",
    "    def __call__(self, param, value):\n",
    "        self.kwargs[param] = value\n",
    "        self.update()\n",
    "\n",
    "    def update(self):\n",
    "        deform_mesh(base_path, base_path, self.kwargs[\"horizon\"], self.kwargs[\"fault\"])\n",
    "        result = pv.read(base_path.joinpath(\"deformed.vtk\"))\n",
    "        self.output.copy_from(result)\n",
    "        return"
   ]
  },
  {
   "cell_type": "code",
   "execution_count": 6,
   "id": "7621003b-bdb6-47f5-9a29-ff94acedc0ab",
   "metadata": {},
   "outputs": [],
   "source": [
    "starting_mesh = pv.read(base_path.joinpath(\"deformed.vtk\"))\n",
    "engine = DeformMesh(starting_mesh)"
   ]
  },
  {
   "cell_type": "code",
   "execution_count": 11,
   "id": "afc1a893-192f-4913-8ae6-afd27eda7ce7",
   "metadata": {},
   "outputs": [
    {
     "data": {
      "application/vnd.jupyter.widget-view+json": {
       "model_id": "bee570b8be254362a78ee2f51a4911ee",
       "version_major": 2,
       "version_minor": 0
      },
      "text/plain": [
       "Widget(value='<iframe src=\"http://localhost:45181/index.html?ui=P_0x7f7116d856c0_5&reconnect=auto\" class=\"pyvi…"
      ]
     },
     "metadata": {},
     "output_type": "display_data"
    }
   ],
   "source": [
    "p = pv.Plotter()\n",
    "p.add_mesh(starting_mesh, show_edges=True)\n",
    "p.add_slider_widget(\n",
    "    callback=lambda value: engine('fault', int(value)),\n",
    "    rng=[0, 500],\n",
    "    value=10,\n",
    "    title=\"Fault\",\n",
    "    pointa=(0.1, 0.1),\n",
    "    pointb=(0.45, 0.1),\n",
    "    # style='modern',\n",
    ")\n",
    "p.add_slider_widget(\n",
    "    callback=lambda value: engine('horizon', int(value)),\n",
    "    rng=[0, 500],\n",
    "    value=10,\n",
    "    title=\"Horizon\",\n",
    "    pointa=(0.55, 0.1),\n",
    "    pointb=(0.9, 0.1),\n",
    "    # style='modern',\n",
    ")\n",
    "\n",
    "p.add_title(\"Result\")\n",
    "p.show()"
   ]
  },
  {
   "cell_type": "markdown",
   "id": "2ae1f98a-c270-4d24-ba2d-150d559f484d",
   "metadata": {},
   "source": [
    "## Usage\r\n",
    "### Linux\r\n",
    "Ensure that python3-venv is installed : sudo apt install python3-venv\r\n",
    "#### CLI mode\r\n",
    "* create a virtual environment: python3 -m venv \"env_name\"\r\n",
    "* activate the virtual environment: source path/to/env_name/bin/activate\r\n",
    "* install dependencies : pip -r requirements.txt \r\n",
    "* launch the script and provide arguments: python deformation.py ifp1 ifp1 100 100\r\n",
    "#### Interactive mode\r\n",
    "* cd /path/to/NumericalGeometryProject/\r\n",
    "* source launch_jupyter.sh\r\n",
    "* open deformation_interactive.ipynb\r\n",
    "* use Alt + Enter to run each cell "
   ]
  },
  {
   "cell_type": "code",
   "execution_count": null,
   "id": "a91115dc-daea-452a-803d-c613ea90b62b",
   "metadata": {},
   "outputs": [],
   "source": []
  }
 ],
 "metadata": {
  "kernelspec": {
   "display_name": "Python 3 (ipykernel)",
   "language": "python",
   "name": "python3"
  },
  "language_info": {
   "codemirror_mode": {
    "name": "ipython",
    "version": 3
   },
   "file_extension": ".py",
   "mimetype": "text/x-python",
   "name": "python",
   "nbconvert_exporter": "python",
   "pygments_lexer": "ipython3",
   "version": "3.10.12"
  }
 },
 "nbformat": 4,
 "nbformat_minor": 5
}
